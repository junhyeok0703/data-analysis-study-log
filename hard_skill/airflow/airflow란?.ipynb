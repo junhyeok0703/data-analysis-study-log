{
 "cells": [
  {
   "cell_type": "markdown",
   "id": "a8672459",
   "metadata": {},
   "source": [
    "### 내가 배우는 목적\n",
    "### 왜 airflow이여만 할까?\n",
    "\n",
    "### "
   ]
  },
  {
   "cell_type": "code",
   "execution_count": null,
   "id": "64d5d69b",
   "metadata": {},
   "outputs": [],
   "source": []
  }
 ],
 "metadata": {
  "language_info": {
   "name": "python"
  }
 },
 "nbformat": 4,
 "nbformat_minor": 5
}
