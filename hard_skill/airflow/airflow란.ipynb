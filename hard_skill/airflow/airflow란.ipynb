{
 "cells": [
  {
   "cell_type": "markdown",
   "id": "a8672459",
   "metadata": {},
   "source": [
    "## airflow란?\n",
    "- ETL과 ELT의 개념을 먼저 알면 좋다. (data_engineering/ETL과ELT.md)\n",
    "- 데이터를 추출, 정제, 적재 이러한 과정을 거치기 위해서는 코드로 작성해서 자동화를 해야한다.\n",
    "- 예를 들어 이야기해보자.\n",
    "- E : 먼저 삼성전자 주식 가격데이터를 API로 호출해서 가져온다.\n",
    "- T : 그렇게 가져온 기사 데이터를 잘 정리해서 구조화된 형식으로 만든다\n",
    "\n",
    "### 내가 배우는 목적\n",
    "- ETL과 ELT를 구축하고 싶다.\n",
    "- 데이터분석가도 간단하게 원하는 데이터를 구축할수있으면 더 효율적이게 일을 할 수 있다.\n",
    "- 데이터 엔지니어가 바쁘면 데이터 분석가가 같이 도와줄수있다.\n",
    "- 스타트업에서 데이터 환경이 구축되지 않거나 데이터팀이 제대로 갖추어져있지않으면 데이터엔지니어링 + 분석 둘다 할수있기때문에\n",
    "\n",
    "### 왜 airflow이여만 할까?\n",
    "\n",
    "### "
   ]
  },
  {
   "cell_type": "code",
   "execution_count": null,
   "id": "64d5d69b",
   "metadata": {},
   "outputs": [],
   "source": []
  },
  {
   "cell_type": "code",
   "execution_count": null,
   "id": "ba95daf6",
   "metadata": {},
   "outputs": [],
   "source": []
  }
 ],
 "metadata": {
  "language_info": {
   "name": "python"
  }
 },
 "nbformat": 4,
 "nbformat_minor": 5
}
